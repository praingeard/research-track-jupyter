{
 "cells": [
  {
   "cell_type": "code",
   "execution_count": 1,
   "id": "155c702b",
   "metadata": {},
   "outputs": [],
   "source": [
    "import rospy\n",
    "import jupyros\n",
    "from robot_control_final_assignment.srv import Mode\n",
    "from ipywidgets import Button, Layout, ButtonStyle, GridBox, VBox, HBox\n",
    "import ipywidgets as widgets\n",
    "\n",
    "def mode_callback(mode):\n",
    "    print(\"Please close any window opened by previous modes\")\n",
    "    rospy.wait_for_service('mode')\n",
    "    try:\n",
    "        mode_client = rospy.ServiceProxy('mode', Mode)\n",
    "        response = mode_client(mode)\n",
    "        return True\n",
    "    except rospy.ServiceException as e:\n",
    "        return False"
   ]
  },
  {
   "cell_type": "code",
   "execution_count": 2,
   "id": "b10eb1fd",
   "metadata": {},
   "outputs": [
    {
     "data": {
      "application/vnd.jupyter.widget-view+json": {
       "model_id": "268b482e47f24217a1601beec858cac2",
       "version_major": 2,
       "version_minor": 0
      },
      "text/plain": [
       "HBox(children=(Button(description='move_base control', layout=Layout(grid_area='b1', width='auto'), style=Butt…"
      ]
     },
     "metadata": {},
     "output_type": "display_data"
    },
    {
     "data": {
      "application/vnd.jupyter.widget-view+json": {
       "model_id": "283f1d9766bc40faa1372d0184f8757c",
       "version_major": 2,
       "version_minor": 0
      },
      "text/plain": [
       "Output()"
      ]
     },
     "metadata": {},
     "output_type": "display_data"
    }
   ],
   "source": [
    "\n",
    "\n",
    "b1 = Button(description='move_base control',\n",
    "            layout=Layout(width='auto', grid_area='b1'),\n",
    "            style=ButtonStyle(button_color='lightblue'))\n",
    "b2 = Button(description='keyboard control',\n",
    "            layout=Layout(width='auto', align='center', grid_area='b2'),\n",
    "            style=ButtonStyle(button_color='moccasin'))\n",
    "b3 = Button(description='keyboard control with help',\n",
    "            layout=Layout(width='auto', grid_area='b3'),\n",
    "            style=ButtonStyle(button_color='salmon'))\n",
    "\n",
    "output = widgets.Output()\n",
    "\n",
    "display(HBox([b1,b2,b3]), output)\n",
    "\n",
    "def on_button_clicked(b):\n",
    "    if b == b1:\n",
    "        with output:\n",
    "            if mode_callback(1):\n",
    "                print(\"move_base mode activated\")\n",
    "    if b == b2:\n",
    "        with output:\n",
    "            if mode_callback(2):\n",
    "                print(\"keyboard mode activated\")\n",
    "    if b == b3:\n",
    "        with output:\n",
    "            if mode_callback(3):\n",
    "                print(\"keyboard_with_help mode activated\")\n",
    "            \n",
    "\n",
    "\n",
    "b1.on_click(on_button_clicked)\n",
    "b2.on_click(on_button_clicked)\n",
    "b3.on_click(on_button_clicked)\n",
    "\n"
   ]
  },
  {
   "cell_type": "code",
   "execution_count": 3,
   "id": "ff91401f",
   "metadata": {},
   "outputs": [
    {
     "data": {
      "application/vnd.jupyter.widget-view+json": {
       "model_id": "21420c85262646c28c7e945bb1ecf9fe",
       "version_major": 2,
       "version_minor": 0
      },
      "text/plain": [
       "VBox(children=(HBox(children=(Button(description='Stop', style=ButtonStyle()),)), Output(layout=Layout(border=…"
      ]
     },
     "metadata": {},
     "output_type": "display_data"
    }
   ],
   "source": [
    "from sensor_msgs.msg import LaserScan\n",
    "import jupyros\n",
    "\n",
    "out2 = widgets.Output(layout={'border': '1px solid black'})\n",
    "\n",
    "range_min = 0.0\n",
    "\n",
    "def scan_cb(msg):\n",
    "    range_min = msg.range_min\n",
    "    print(msg.range_min)\n",
    "\n",
    "rospy.init_node('jupyter_node')\n",
    "jupyros.subscribe('/scan', LaserScan, lambda msg:print(msg))\n",
    "#jupyros.live_plot('/scan/:range_min', LaserScan, 10000)\n",
    "#with out2:\n",
    " #   print(range_min)\n",
    "#out2\n",
    "\n",
    "\n",
    "\n",
    "\n"
   ]
  },
  {
   "cell_type": "code",
   "execution_count": null,
   "id": "9ba37466",
   "metadata": {},
   "outputs": [],
   "source": []
  }
 ],
 "metadata": {
  "kernelspec": {
   "display_name": "Python 3 (ipykernel)",
   "language": "python",
   "name": "python3"
  },
  "language_info": {
   "codemirror_mode": {
    "name": "ipython",
    "version": 3
   },
   "file_extension": ".py",
   "mimetype": "text/x-python",
   "name": "python",
   "nbconvert_exporter": "python",
   "pygments_lexer": "ipython3",
   "version": "3.8.10"
  }
 },
 "nbformat": 4,
 "nbformat_minor": 5
}
